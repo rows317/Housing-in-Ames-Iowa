{
 "cells": [
  {
   "cell_type": "markdown",
   "metadata": {},
   "source": [
    "# Cleaning Data/EDA"
   ]
  },
  {
   "cell_type": "code",
   "execution_count": null,
   "metadata": {},
   "outputs": [],
   "source": [
    "import pandas as pd\n",
    "import numpy as np\n",
    "import seaborn as sns\n",
    "import matplotlib.pyplot as plt\n",
    "import sklearn\n",
    "from sklearn.linear_model import LinearRegression, LassoCV, RidgeCV\n",
    "from sklearn.preprocessing import PolynomialFeatures, StandardScaler\n",
    "from sklearn.model_selection import train_test_split, cross_val_score, cross_val_predict\n",
    "\n",
    "\n",
    "%matplotlib inline"
   ]
  },
  {
   "cell_type": "code",
   "execution_count": null,
   "metadata": {},
   "outputs": [],
   "source": [
    "train = pd.read_csv('../datasets/train.csv')#,index_col=0)\n",
    "test = pd.read_csv('../datasets/test.csv')#, index_col=0)"
   ]
  },
  {
   "cell_type": "code",
   "execution_count": null,
   "metadata": {},
   "outputs": [],
   "source": [
    "train.head()"
   ]
  },
  {
   "cell_type": "code",
   "execution_count": null,
   "metadata": {},
   "outputs": [],
   "source": [
    "def noval(col):\n",
    "    print((col).isnull().sum())"
   ]
  },
  {
   "cell_type": "code",
   "execution_count": null,
   "metadata": {},
   "outputs": [],
   "source": [
    "noval(train['Lot Frontage'])"
   ]
  },
  {
   "cell_type": "code",
   "execution_count": null,
   "metadata": {},
   "outputs": [],
   "source": [
    "train['Lot Frontage'].fillna(0, inplace=True)\n",
    "#filling NA's in this numerical column with 0"
   ]
  },
  {
   "cell_type": "code",
   "execution_count": null,
   "metadata": {},
   "outputs": [],
   "source": [
    "noval(train['Lot Area'])"
   ]
  },
  {
   "cell_type": "code",
   "execution_count": null,
   "metadata": {},
   "outputs": [],
   "source": [
    "train['Alley'].fillna('No Access', inplace=True)\n",
    "train['Alley'].value_counts()\n",
    "#data description states \"NA\" values indicate no alley access, so I replace those blanks with \"No Access\""
   ]
  },
  {
   "cell_type": "code",
   "execution_count": null,
   "metadata": {},
   "outputs": [],
   "source": [
    "train['Condition 2'].value_counts()"
   ]
  },
  {
   "cell_type": "code",
   "execution_count": null,
   "metadata": {},
   "outputs": [],
   "source": [
    "train['Conditions']= train['Condition 1'].str.cat(train['Condition 2'], sep=\",\")\n",
    "#Condition 1 and Condition 2 deal with the same values; I combined into one column (separating vals with a comma) for ease/to prevent future high multicollinearity"
   ]
  },
  {
   "cell_type": "code",
   "execution_count": null,
   "metadata": {},
   "outputs": [],
   "source": [
    "train.drop(['Condition 1', 'Condition 2'], axis=1, inplace=True)"
   ]
  },
  {
   "cell_type": "code",
   "execution_count": null,
   "metadata": {
    "scrolled": true
   },
   "outputs": [],
   "source": [
    "noval(train['Mas Vnr Type'])"
   ]
  },
  {
   "cell_type": "code",
   "execution_count": null,
   "metadata": {},
   "outputs": [],
   "source": [
    "noval(train['Mas Vnr Area'])"
   ]
  },
  {
   "cell_type": "code",
   "execution_count": null,
   "metadata": {},
   "outputs": [],
   "source": [
    "#making sure the 22 null rows match up with respective columns;\n",
    "#rather than get rid of them, I'll replace them with relevant assumed values\n",
    "(train[train['Mas Vnr Type'].isnull()]).index & (train[train['Mas Vnr Area'].isnull()]).index"
   ]
  },
  {
   "cell_type": "code",
   "execution_count": null,
   "metadata": {},
   "outputs": [],
   "source": [
    "train['Mas Vnr Type'].fillna('None', inplace=True)\n",
    "train['Mas Vnr Area'].fillna(0, inplace=True)"
   ]
  },
  {
   "cell_type": "code",
   "execution_count": null,
   "metadata": {},
   "outputs": [],
   "source": [
    "(train[train['Bsmt Cond'].isnull()].index) & (train[train['Bsmt Qual'].isnull()].index) & (train[train['Bsmt Exposure'].isnull()].index)"
   ]
  },
  {
   "cell_type": "code",
   "execution_count": null,
   "metadata": {},
   "outputs": [],
   "source": [
    "#there are more null vals in 'Bsmt Exposure'\n",
    "#after identifying indexes that do not match; replacing those appropriately\n",
    "(train[train['Bsmt Exposure'].isnull()].index)"
   ]
  },
  {
   "cell_type": "code",
   "execution_count": null,
   "metadata": {},
   "outputs": [],
   "source": [
    "train.loc[1997, 'Bsmt Exposure']='No'\n",
    "train.loc[1547, 'Bsmt Exposure']='No'\n",
    "train.loc[1456, 'Bsmt Exposure']='No'"
   ]
  },
  {
   "cell_type": "code",
   "execution_count": null,
   "metadata": {},
   "outputs": [],
   "source": [
    "#'NB' for no basement\n",
    "train['Bsmt Qual'].fillna('NB', inplace=True)\n",
    "train['Bsmt Cond'].fillna('NB', inplace=True)\n",
    "train['Bsmt Exposure'].fillna('NB', inplace=True)"
   ]
  },
  {
   "cell_type": "code",
   "execution_count": null,
   "metadata": {},
   "outputs": [],
   "source": [
    "train['BsmtFin Type 1'].fillna('NB', inplace=True)"
   ]
  },
  {
   "cell_type": "code",
   "execution_count": null,
   "metadata": {},
   "outputs": [],
   "source": [
    "train['BsmtFin SF 1'].fillna(0, inplace=True)"
   ]
  },
  {
   "cell_type": "code",
   "execution_count": null,
   "metadata": {},
   "outputs": [],
   "source": [
    "train['BsmtFin Type 2'].fillna('NB', inplace=True)"
   ]
  },
  {
   "cell_type": "code",
   "execution_count": null,
   "metadata": {},
   "outputs": [],
   "source": [
    "train['BsmtFin SF 2'].fillna(0, inplace=True)"
   ]
  },
  {
   "cell_type": "code",
   "execution_count": null,
   "metadata": {},
   "outputs": [],
   "source": [
    "train['Bsmt Unf SF'].fillna(0, inplace=True)"
   ]
  },
  {
   "cell_type": "code",
   "execution_count": null,
   "metadata": {},
   "outputs": [],
   "source": [
    "train['BsmtFin SF'] = train['BsmtFin SF 1'] + train['BsmtFin SF 2']"
   ]
  },
  {
   "cell_type": "code",
   "execution_count": null,
   "metadata": {},
   "outputs": [],
   "source": [
    "#rename to match pattern of other basement names/easier to call\n",
    "train.rename(columns ={'Total Bsmt SF': 'Bsmt Total SF'}, inplace=True)\n",
    "train['Bsmt Total SF'].fillna(0, inplace=True)"
   ]
  },
  {
   "cell_type": "code",
   "execution_count": null,
   "metadata": {},
   "outputs": [],
   "source": [
    "train[train['Bsmt Full Bath'].isnull()].index"
   ]
  },
  {
   "cell_type": "code",
   "execution_count": null,
   "metadata": {},
   "outputs": [],
   "source": [
    "train[train['Bsmt Half Bath'].isnull()].index"
   ]
  },
  {
   "cell_type": "code",
   "execution_count": null,
   "metadata": {},
   "outputs": [],
   "source": [
    "train['Bsmt Half Bath'].fillna(0, inplace=True)\n",
    "train['Bsmt Full Bath'].fillna(0, inplace=True)"
   ]
  },
  {
   "cell_type": "code",
   "execution_count": null,
   "metadata": {},
   "outputs": [],
   "source": [
    "train['Bsmt Total Baths'] = train['Bsmt Full Bath'] + train['Bsmt Half Bath']"
   ]
  },
  {
   "cell_type": "code",
   "execution_count": null,
   "metadata": {},
   "outputs": [],
   "source": [
    "train.drop('Bsmt Full Bath',axis=1, inplace=True)\n",
    "train.drop('Bsmt Half Bath', axis=1,inplace=True)"
   ]
  },
  {
   "cell_type": "code",
   "execution_count": null,
   "metadata": {},
   "outputs": [],
   "source": [
    "train['Total Baths'] = train['Full Bath'] + train['Half Bath']"
   ]
  },
  {
   "cell_type": "code",
   "execution_count": null,
   "metadata": {},
   "outputs": [],
   "source": [
    "#another instance where data descr uses NA to mean no\n",
    "train['Fireplace Qu'].fillna('NFP', inplace=True)"
   ]
  },
  {
   "cell_type": "code",
   "execution_count": null,
   "metadata": {},
   "outputs": [],
   "source": [
    "train['Fireplaces*Fireplace Quality '] = train['Fireplaces']*train['Fireplace Qu']"
   ]
  },
  {
   "cell_type": "code",
   "execution_count": null,
   "metadata": {},
   "outputs": [],
   "source": [
    "train.drop('Fireplaces',axis=1,inplace=True)\n",
    "trian.drop('Fireplace Qu', axis=1,inplace=True)"
   ]
  },
  {
   "cell_type": "code",
   "execution_count": null,
   "metadata": {},
   "outputs": [],
   "source": [
    "#Na = no garage\n",
    "train['Garage Type'].fillna('NG',inplace=True)"
   ]
  },
  {
   "cell_type": "code",
   "execution_count": null,
   "metadata": {},
   "outputs": [],
   "source": [
    "train['Garage Yr Blt'].fillna(0,inplace=True)"
   ]
  },
  {
   "cell_type": "code",
   "execution_count": null,
   "metadata": {},
   "outputs": [],
   "source": [
    "train['Garage Finish'].fillna('NG',inplace=True)"
   ]
  },
  {
   "cell_type": "code",
   "execution_count": null,
   "metadata": {},
   "outputs": [],
   "source": [
    "train[train['Garage Cars'].isnull()].index"
   ]
  },
  {
   "cell_type": "code",
   "execution_count": null,
   "metadata": {},
   "outputs": [],
   "source": [
    "#The null value in 'garage cars' corresponds to a instance where 'garage type' is full but other garage variables are also empty\n",
    "#Therefore, I am dropping the row\n",
    "train.drop(train.index[1712], inplace=True)"
   ]
  },
  {
   "cell_type": "code",
   "execution_count": null,
   "metadata": {},
   "outputs": [],
   "source": [
    "train['Garage Qual'].fillna('NG', inplace=True)"
   ]
  },
  {
   "cell_type": "code",
   "execution_count": null,
   "metadata": {},
   "outputs": [],
   "source": [
    "train['Garage Cond'].fillna('NG', inplace=True)"
   ]
  },
  {
   "cell_type": "code",
   "execution_count": null,
   "metadata": {},
   "outputs": [],
   "source": [
    "#NAs in 'Pool Qual' correspond with 0's in Pool sq ft; therefore, filling as 'NP', no pool"
   ]
  },
  {
   "cell_type": "code",
   "execution_count": null,
   "metadata": {},
   "outputs": [],
   "source": [
    "train['Pool QC'].fillna('NP', inplace=True)"
   ]
  },
  {
   "cell_type": "code",
   "execution_count": null,
   "metadata": {},
   "outputs": [],
   "source": [
    "train['Fence'].fillna('NF', inplace=True)"
   ]
  },
  {
   "cell_type": "code",
   "execution_count": null,
   "metadata": {},
   "outputs": [],
   "source": [
    "train['Misc Feature'].fillna('None', inplace=True)"
   ]
  },
  {
   "cell_type": "code",
   "execution_count": null,
   "metadata": {},
   "outputs": [],
   "source": [
    "train['Mo/Yr Sold']= (train['Mo Sold'].map(str)).str.cat((train['Yr Sold'].map(str)), sep=\"-\")\n"
   ]
  },
  {
   "cell_type": "code",
   "execution_count": null,
   "metadata": {},
   "outputs": [],
   "source": [
    "train.drop('Mo Sold', axis=1, inplace=True)\n",
    "train.drop('Yr Sold', axis=1, inplace=True)"
   ]
  },
  {
   "cell_type": "code",
   "execution_count": null,
   "metadata": {},
   "outputs": [],
   "source": [
    "train.loc[1699]['Garage Yr Blt']\n",
    "#Garage could not have been built in a year that has yet to occur; removing"
   ]
  },
  {
   "cell_type": "code",
   "execution_count": null,
   "metadata": {},
   "outputs": [],
   "source": [
    "train.drop([1699], axis=0, inplace=True)"
   ]
  },
  {
   "cell_type": "code",
   "execution_count": null,
   "metadata": {},
   "outputs": [],
   "source": [
    "#creating an interaction term of these two closely related variables\n",
    "train['Overall Quality Score'] = train['Overall Qual']*train['Overall Cond']"
   ]
  },
  {
   "cell_type": "code",
   "execution_count": null,
   "metadata": {},
   "outputs": [],
   "source": [
    "train['Exterior Covering'] = (train['Exterior 1st']).str.cat((train['Exterior 2nd']), sep='&')"
   ]
  },
  {
   "cell_type": "code",
   "execution_count": null,
   "metadata": {},
   "outputs": [],
   "source": [
    "train['Exterior Quality Score'] = (train['Exter Qual'].replace(['Ex', 'Gd','TA','Fa','Po'], [5,4,3,2,1]))*(train['Exter Cond'].replace(['Ex', 'Gd','TA','Fa','Po'], [5,4,3,2,1]))"
   ]
  },
  {
   "cell_type": "code",
   "execution_count": null,
   "metadata": {},
   "outputs": [],
   "source": [
    "train.drop('Exter Qual', axis=1, inplace=True)\n",
    "train.drop('Exter Cond', axis=1,inplace=True)"
   ]
  },
  {
   "cell_type": "code",
   "execution_count": null,
   "metadata": {},
   "outputs": [],
   "source": [
    "train['BsmtFin Quality Score'] = (train['BsmtFin Type 1'].replace(['GLQ','ALQ','BLQ','Rec','LwQ', 'Unf','NB'],[6,5,4,3,2,1,0]))*(train['BsmtFin Type 2'].replace(['GLQ','ALQ','BLQ','Rec','LwQ', 'Unf','NB'],[6,5,4,3,2,1,0]))"
   ]
  },
  {
   "cell_type": "code",
   "execution_count": null,
   "metadata": {},
   "outputs": [],
   "source": [
    "train.drop('BsmtFin Type 1', axis=1,inplace=True)\n",
    "train.drop('BsmtFin Type 2', axis=1, inplace=True)"
   ]
  },
  {
   "cell_type": "markdown",
   "metadata": {},
   "source": [
    "# Plots to identify correlations and outliers & decide on course of action"
   ]
  },
  {
   "cell_type": "code",
   "execution_count": null,
   "metadata": {},
   "outputs": [],
   "source": [
    "train.describe()"
   ]
  },
  {
   "cell_type": "code",
   "execution_count": null,
   "metadata": {},
   "outputs": [],
   "source": [
    "plt.figure(figsize= (16,16))\n",
    "sns.heatmap(train.corr(),cmap='RdBu');"
   ]
  },
  {
   "cell_type": "code",
   "execution_count": null,
   "metadata": {},
   "outputs": [],
   "source": [
    "plt.figure(figsize=(12,12))\n",
    "sns.heatmap((train.corr()[['SalePrice']]).sort_values('SalePrice', ascending=False), annot=True) #sourced from code written by Mahdi S.\n",
    "plt.title('Sale Price Correlations');"
   ]
  },
  {
   "cell_type": "markdown",
   "metadata": {},
   "source": [
    "#### From the above heatmaps, we can see which variables are most closely correlated with sale price and each other:\n",
    "                                 * Overall Quality\n",
    "                                 * Gr Liv Area (Above Ground Living Area SF)\n",
    "                                 * Garage Cars/Garage Area\n",
    "                                 * 1st Fl SF\n",
    "                                 * Bsmt Total SF\n",
    "                                 * Full Baths\n",
    "\n",
    "With this information, I can identify other variables correlated with these to expand/play around with the variables of my models."
   ]
  },
  {
   "cell_type": "code",
   "execution_count": null,
   "metadata": {
    "scrolled": false
   },
   "outputs": [],
   "source": [
    "sns.boxplot(train['Overall Qual'])\n",
    "plt.title('Overall Quality Rankings', size=15)\n",
    "plt.xlabel('Overall Quality Ranking');"
   ]
  },
  {
   "cell_type": "markdown",
   "metadata": {},
   "source": [
    "The clear outliers here are properties with overall quality values below 2. <br>\n",
    "There are only 4 instances of these super low scores. <br> Therefore, I think it is prudent to remove these as they may unnecessarily skew my model results."
   ]
  },
  {
   "cell_type": "code",
   "execution_count": null,
   "metadata": {},
   "outputs": [],
   "source": [
    "train['Overall Qual'].value_counts()"
   ]
  },
  {
   "cell_type": "code",
   "execution_count": null,
   "metadata": {},
   "outputs": [],
   "source": [
    "train = train[train['Overall Qual'] != 1]"
   ]
  },
  {
   "cell_type": "code",
   "execution_count": null,
   "metadata": {},
   "outputs": [],
   "source": [
    "sns.boxplot(train['Gr Liv Area'])\n",
    "plt.title('Above Ground Living Area', size=15)\n",
    "plt.xlabel('Above Ground Living Area (SqFt)');"
   ]
  },
  {
   "cell_type": "code",
   "execution_count": null,
   "metadata": {},
   "outputs": [],
   "source": [
    "(train['Gr Liv Area']>=3000).value_counts()"
   ]
  },
  {
   "cell_type": "markdown",
   "metadata": {},
   "source": [
    "Homes with an above ground living area square footage of over 3000sqft represent less than 1% of all homes. <br>\n",
    "Rather than remove them, I will create a separate column for these 'larger area' homes."
   ]
  },
  {
   "cell_type": "code",
   "execution_count": null,
   "metadata": {},
   "outputs": [],
   "source": [
    "train['Larger Gr Liv Area'] = ((train['Gr Liv Area']>=3000)==True)"
   ]
  },
  {
   "cell_type": "code",
   "execution_count": null,
   "metadata": {},
   "outputs": [],
   "source": [
    "sns.boxplot(train['Garage Cars'])\n",
    "plt.title('Car Capacity of Garage', size=15)\n",
    "plt.xlabel('Number of Cars');"
   ]
  },
  {
   "cell_type": "markdown",
   "metadata": {},
   "source": [
    "The clear outliers here are garages with car capacities of 4 & 5. <br> There is only 1 garage that accomodates 5 cars, and it does not fall into the 'Larger Gr Living Area' column (as would be expected as ground living area sqft and garage car capacities are otherwise correlated columns). <br> \n",
    "We can conclude it is an anomaly and not of benefit to my models. It will be removed."
   ]
  },
  {
   "cell_type": "code",
   "execution_count": null,
   "metadata": {},
   "outputs": [],
   "source": [
    "train['Garage Cars'].value_counts()"
   ]
  },
  {
   "cell_type": "code",
   "execution_count": null,
   "metadata": {},
   "outputs": [],
   "source": [
    "train = train[train['Garage Cars'] != 5]"
   ]
  },
  {
   "cell_type": "code",
   "execution_count": null,
   "metadata": {},
   "outputs": [],
   "source": [
    "sns.boxplot(train['Garage Area'])\n",
    "plt.title('Garage Area (SqFt)')\n",
    "plt.xlabel('Garage Area (SqFt)');"
   ]
  },
  {
   "cell_type": "markdown",
   "metadata": {},
   "source": [
    "Homes with garage areas over 1000 SqFt are rare, and only 1 contains a garage over 1400, an anomaly. <br> I will drop this row."
   ]
  },
  {
   "cell_type": "code",
   "execution_count": null,
   "metadata": {},
   "outputs": [],
   "source": [
    "(train['Garage Area']>1000).value_counts()"
   ]
  },
  {
   "cell_type": "code",
   "execution_count": null,
   "metadata": {},
   "outputs": [],
   "source": [
    "(train[train['Garage Area']>1400]).index"
   ]
  },
  {
   "cell_type": "code",
   "execution_count": null,
   "metadata": {},
   "outputs": [],
   "source": [
    "train.drop([960],inplace=True)"
   ]
  },
  {
   "cell_type": "markdown",
   "metadata": {},
   "source": [
    "Due to the clear relationship between the 'Garage Area' & 'Garage Cars' columns, I will create an interaction term of the two."
   ]
  },
  {
   "cell_type": "code",
   "execution_count": null,
   "metadata": {},
   "outputs": [],
   "source": [
    "sns.boxplot(train['1st Flr SF'])\n",
    "plt.title('1st Floor Total SqFt', size=15)\n",
    "plt.xlabel('Square Feet');"
   ]
  },
  {
   "cell_type": "markdown",
   "metadata": {},
   "source": [
    "Of these outlier home sizes, there is only one home with a square footage over 5000 , one home with a square footage over 4000 , and one with a square footage over 3000. <br> These I will remove from my dataset. <br>The homes with square footage over 2000 mostly also appear in the variable 'Larger Gr Liv Area' I created to represent homes with an overall sqft living area over the max 3000."
   ]
  },
  {
   "cell_type": "code",
   "execution_count": null,
   "metadata": {},
   "outputs": [],
   "source": [
    "(train['1st Flr SF']>2000).value_counts()"
   ]
  },
  {
   "cell_type": "code",
   "execution_count": null,
   "metadata": {
    "scrolled": true
   },
   "outputs": [],
   "source": [
    "(train[(train['1st Flr SF']>2000) & (train['Larger Gr Liv Area']==True)])"
   ]
  },
  {
   "cell_type": "code",
   "execution_count": null,
   "metadata": {},
   "outputs": [],
   "source": [
    "train = train[train['1st Flr SF'] <3000]"
   ]
  },
  {
   "cell_type": "code",
   "execution_count": null,
   "metadata": {},
   "outputs": [],
   "source": [
    "sns.boxplot(train['2nd Flr SF'])\n",
    "plt.title('2nd Floor Total SqFt', size=15)\n",
    "plt.xlabel('Square Feet')"
   ]
  },
  {
   "cell_type": "markdown",
   "metadata": {},
   "source": [
    "There are 3 outliers here. Homes whose second floor square footage exceeds 1800. Because these 3 match up with homes in my category for larger than avg above ground living area, I will keep them."
   ]
  },
  {
   "cell_type": "code",
   "execution_count": null,
   "metadata": {},
   "outputs": [],
   "source": [
    "(train['2nd Flr SF']>1800).value_counts()"
   ]
  },
  {
   "cell_type": "code",
   "execution_count": null,
   "metadata": {},
   "outputs": [],
   "source": [
    "(train[(train['2nd Flr SF']>1800) & (train['Larger Gr Liv Area']==True)])"
   ]
  },
  {
   "cell_type": "code",
   "execution_count": null,
   "metadata": {},
   "outputs": [],
   "source": [
    "sns.boxplot(train['Bsmt Total SF'])\n",
    "plt.title('Total Basement Area (Finished&Unfinished)', size=15)\n",
    "plt.xlabel('Square Feet');"
   ]
  },
  {
   "cell_type": "markdown",
   "metadata": {},
   "source": [
    "There are only 2 houses wherein the total SF of the basement is greater than 3000. <br>\n",
    "I am creating a new column that uses 1 to denote if a house's finished square footage is greater than half of the total basement square footage (0 if not). <br>\n",
    "My assumption is that because total basement sq footage is positively correlated with sale price, the larger the basement, the more the house is worth; the more finished square footage of the basement, the higher the sale price."
   ]
  },
  {
   "cell_type": "code",
   "execution_count": null,
   "metadata": {},
   "outputs": [],
   "source": [
    "LgFin = []\n",
    "for index, row in train.iterrows():\n",
    "    if (row['BsmtFin SF 1']+ row['BsmtFin SF 2'])>(row['Bsmt Total SF']/2):\n",
    "        LgFin.append(1)\n",
    "    else:\n",
    "        LgFin.append(0)"
   ]
  },
  {
   "cell_type": "code",
   "execution_count": null,
   "metadata": {},
   "outputs": [],
   "source": [
    "train['Over 50%Fin Bsmt'] = LgFin"
   ]
  },
  {
   "cell_type": "code",
   "execution_count": null,
   "metadata": {},
   "outputs": [],
   "source": [
    "train['BsmtFin SF'] = train['BsmtFin SF 1'] + train['BsmtFin SF 2']"
   ]
  },
  {
   "cell_type": "code",
   "execution_count": null,
   "metadata": {},
   "outputs": [],
   "source": [
    "train.drop(['PID'], axis=1, inplace=True)"
   ]
  },
  {
   "cell_type": "markdown",
   "metadata": {},
   "source": [
    "#### Saving my cleaned data to a new csv"
   ]
  },
  {
   "cell_type": "code",
   "execution_count": null,
   "metadata": {},
   "outputs": [],
   "source": [
    "train.to_csv('../datasets/cleaned_training_data.csv')"
   ]
  },
  {
   "cell_type": "markdown",
   "metadata": {},
   "source": [
    "#### A revised heatmap with my cleaned data"
   ]
  },
  {
   "cell_type": "code",
   "execution_count": null,
   "metadata": {},
   "outputs": [],
   "source": [
    "\n",
    "plt.figure(figsize=(12,12))\n",
    "sns.heatmap((train.corr()[['SalePrice']]).sort_values('SalePrice', ascending=False), annot=True)\n",
    "plt.title('Sale Price Correlations', size=15);"
   ]
  },
  {
   "cell_type": "code",
   "execution_count": null,
   "metadata": {},
   "outputs": [],
   "source": [
    "#will run when I have more time; takes forever\n",
    "#sns.pairplot(train)"
   ]
  },
  {
   "cell_type": "code",
   "execution_count": null,
   "metadata": {
    "scrolled": true
   },
   "outputs": [],
   "source": [
    "plt.bar(train['Overall Qual'], train['SalePrice'] , color='#E84855')\n",
    "plt.ylabel('Sale Price (USD)')\n",
    "plt.xlabel('Overall Quality (1-10)')\n",
    "plt.title('Sale Price by Home Quality Rating', size=15)\n",
    "mean = train['Overall Qual'].mean()\n",
    "smean = train['SalePrice'].mean()\n",
    "plt.axvline(mean, color='black', linestyle='--')\n",
    "plt.axhline(smean, color = 'green', linestyle='--');"
   ]
  },
  {
   "cell_type": "code",
   "execution_count": null,
   "metadata": {},
   "outputs": [],
   "source": [
    "plt.figure(figsize=(10,10))\n",
    "plt.bar(train['Overall Quality Score'], train['SalePrice'] , color='#2B3A67')\n",
    "plt.ylabel('Sale Price (USD)')\n",
    "plt.xlabel('Home Quality + Condition Score')\n",
    "plt.title('Sale Price by Quality Score')\n",
    "mean = train['Overall Quality Score'].mean()\n",
    "smean = train['SalePrice'].mean()\n",
    "plt.axhline(smean, color = 'green', linestyle='--')\n",
    "plt.axvline(mean, color='red', linestyle='--');"
   ]
  },
  {
   "cell_type": "code",
   "execution_count": null,
   "metadata": {},
   "outputs": [],
   "source": [
    "plt.figure(figsize=(12,12))\n",
    "g = sns.pointplot(x=train['Neighborhood'], y=train['SalePrice'], data=train, color='red')\n",
    "labels=['Sawyer','Sawyer West',\n",
    "        'North Ames',\n",
    "        'Timberland',\n",
    "        'Edwards', \n",
    "        'Old Town', \n",
    "        'Briardale',\n",
    "        'College Creek', \n",
    "        'Somerset',\n",
    "        'Mitchell',\n",
    "        'Stonebrook',\n",
    "        'Northridge Heights',\n",
    "        'Gilbert',\n",
    "        'Crawford',\n",
    "        'Iowa DOT & Railroad',\n",
    "        'Northwest Ames',\n",
    "        'Veenker',\n",
    "        'Meadow Village',\n",
    "        'S&W Iowa State U',\n",
    "        'Northridge',\n",
    "        'Clear Creek', \n",
    "        'Bloomington Heights', \n",
    "        'Brookside', \n",
    "        'Northpark Villa', \n",
    "        'Bluestem', \n",
    "        'Green Hills', \n",
    "        'Greens', \n",
    "        'Landmark']\n",
    "g.set_xticklabels(labels,rotation=70)\n",
    "plt.title('Sale Price by Neighborhood', size=15)\n",
    "plt.ylabel('Price (USD)')\n",
    "plt.xlabel('Neighborhood')\n",
    "mean= train['SalePrice'].mean()\n",
    "plt.axhline(mean, color='green', linestyle='--');"
   ]
  },
  {
   "cell_type": "markdown",
   "metadata": {},
   "source": [
    "# Next Steps\n",
    "\n",
    "### After cleaning my data and performing the necessary functions on variables, I am ready to begin creating and testing out a few models.\n",
    "\n",
    "### I have chosen to:\n",
    "                    * combine columns with similar or highly related variables\n",
    "                    * eliminate outliers that appeared in quantities under 10\n",
    "                    * keep outliers that appeared in quantities over 10 because eliminating too many outliers may cause one or multiple iterations of my model to be overfit later on\n",
    "                    * create new columns for outlier variables I think will be significant in determining my target later\n",
    "                    "
   ]
  },
  {
   "cell_type": "code",
   "execution_count": null,
   "metadata": {},
   "outputs": [],
   "source": [
    "train.shape"
   ]
  },
  {
   "cell_type": "code",
   "execution_count": null,
   "metadata": {},
   "outputs": [],
   "source": [
    "#reordering so that my target column is the last one in my dataframe\n",
    "\n",
    "#cols = list(train.columns.values)\n",
    "#cols.pop(cols.index('SalePrice')) \n",
    "#train = train[cols+['SalePrice']]"
   ]
  },
  {
   "cell_type": "code",
   "execution_count": null,
   "metadata": {},
   "outputs": [],
   "source": [
    "#def scatterem(df, y):\n",
    "    #for col in range (0,3):\n",
    "        #fig, axs = plt.subplots()\n",
    "        #axs.scatter(df.iloc[:,col],y)\n",
    "    #return fig,ax"
   ]
  },
  {
   "cell_type": "code",
   "execution_count": null,
   "metadata": {},
   "outputs": [],
   "source": [
    "#scatterem(train, train['SalePrice'])"
   ]
  },
  {
   "cell_type": "code",
   "execution_count": null,
   "metadata": {},
   "outputs": [],
   "source": [
    "plt.figure(figsize=(10,10))\n",
    "ax = sns.distplot(train['SalePrice'], color='#8EF9F3', bins =20, hist_kws=dict(alpha=1), kde_kws={\"color\": \"purple\"})\n",
    "ax.set_xlabel('Sale Price (USD)')\n",
    "ax.set_title('Sale Price Histogram')\n",
    "plt.show()"
   ]
  },
  {
   "cell_type": "markdown",
   "metadata": {},
   "source": [
    "# Preprocessing\n",
    "\n",
    "#### Feature Selection:\n",
    "Considering my train dataset still contains 82 variables, utilizing all of them will make my model severely prone to overfitting.<br> My initial model will utilize a fraction of these, allowing for more precise tuning in later versions.\n",
    "\n"
   ]
  },
  {
   "cell_type": "code",
   "execution_count": null,
   "metadata": {},
   "outputs": [],
   "source": [
    "features = ['']"
   ]
  },
  {
   "cell_type": "code",
   "execution_count": null,
   "metadata": {},
   "outputs": [],
   "source": [
    "X = train\n",
    "y =train"
   ]
  },
  {
   "cell_type": "code",
   "execution_count": null,
   "metadata": {},
   "outputs": [],
   "source": [
    "['Neighborhood','Alley','Land Contour','House Style','Overall Quality Score', 'Yr Built','Gr Liv Area','TotRms AbvGrd','Larger Gr Liv Area',\n",
    " 'Bsmt Cond','Over 50%Fin Bsmt', 'BsmtFin Quality Score', 'Garage Cond', '']"
   ]
  },
  {
   "cell_type": "code",
   "execution_count": null,
   "metadata": {},
   "outputs": [],
   "source": [
    "train.columns"
   ]
  },
  {
   "cell_type": "code",
   "execution_count": null,
   "metadata": {},
   "outputs": [],
   "source": []
  },
  {
   "cell_type": "code",
   "execution_count": null,
   "metadata": {},
   "outputs": [],
   "source": []
  },
  {
   "cell_type": "code",
   "execution_count": null,
   "metadata": {},
   "outputs": [],
   "source": []
  },
  {
   "cell_type": "code",
   "execution_count": null,
   "metadata": {},
   "outputs": [],
   "source": []
  },
  {
   "cell_type": "code",
   "execution_count": null,
   "metadata": {},
   "outputs": [],
   "source": []
  },
  {
   "cell_type": "code",
   "execution_count": null,
   "metadata": {},
   "outputs": [],
   "source": []
  },
  {
   "cell_type": "code",
   "execution_count": null,
   "metadata": {},
   "outputs": [],
   "source": []
  },
  {
   "cell_type": "code",
   "execution_count": null,
   "metadata": {},
   "outputs": [],
   "source": []
  },
  {
   "cell_type": "code",
   "execution_count": null,
   "metadata": {},
   "outputs": [],
   "source": []
  },
  {
   "cell_type": "code",
   "execution_count": null,
   "metadata": {},
   "outputs": [],
   "source": []
  }
 ],
 "metadata": {
  "kernelspec": {
   "display_name": "Python 3",
   "language": "python",
   "name": "python3"
  },
  "language_info": {
   "codemirror_mode": {
    "name": "ipython",
    "version": 3
   },
   "file_extension": ".py",
   "mimetype": "text/x-python",
   "name": "python",
   "nbconvert_exporter": "python",
   "pygments_lexer": "ipython3",
   "version": "3.7.3"
  }
 },
 "nbformat": 4,
 "nbformat_minor": 2
}
