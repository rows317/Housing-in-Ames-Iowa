{
 "cells": [
  {
   "cell_type": "code",
   "execution_count": 1,
   "metadata": {},
   "outputs": [],
   "source": [
    "import pandas as pd\n",
    "import numpy as np\n",
    "import seaborn as sns\n",
    "import matplotlib.pyplot as plt\n",
    "import sklearn\n",
    "from sklearn.linear_model import LinearRegression, LassoCV, RidgeCV\n",
    "from sklearn.preprocessing import PolynomialFeatures, StandardScaler\n",
    "from sklearn.model_selection import train_test_split, cross_val_score, cross_val_predict\n",
    "\n",
    "\n",
    "%matplotlib inline"
   ]
  },
  {
   "cell_type": "code",
   "execution_count": 2,
   "metadata": {},
   "outputs": [],
   "source": [
    "train = pd.read_csv('../datasets/train.csv')\n",
    "test = pd.read_csv('../datasets/test.csv')"
   ]
  },
  {
   "cell_type": "code",
   "execution_count": 3,
   "metadata": {},
   "outputs": [
    {
     "data": {
      "text/plain": [
       "53      21.0\n",
       "1534    21.0\n",
       "787     21.0\n",
       "796     21.0\n",
       "1834    21.0\n",
       "906     21.0\n",
       "1447    21.0\n",
       "1294    21.0\n",
       "315     21.0\n",
       "1226    21.0\n",
       "395     21.0\n",
       "1958    21.0\n",
       "1274    21.0\n",
       "406     21.0\n",
       "1705    21.0\n",
       "910     21.0\n",
       "297     21.0\n",
       "1544    21.0\n",
       "1982    21.0\n",
       "2006    21.0\n",
       "724     21.0\n",
       "342     21.0\n",
       "179     21.0\n",
       "2039    21.0\n",
       "10      21.0\n",
       "1552    21.0\n",
       "677     21.0\n",
       "135     21.0\n",
       "2007    21.0\n",
       "1431    21.0\n",
       "        ... \n",
       "1866     NaN\n",
       "1869     NaN\n",
       "1873     NaN\n",
       "1874     NaN\n",
       "1882     NaN\n",
       "1910     NaN\n",
       "1918     NaN\n",
       "1924     NaN\n",
       "1925     NaN\n",
       "1926     NaN\n",
       "1933     NaN\n",
       "1941     NaN\n",
       "1943     NaN\n",
       "1947     NaN\n",
       "1949     NaN\n",
       "1956     NaN\n",
       "1960     NaN\n",
       "1963     NaN\n",
       "1967     NaN\n",
       "1977     NaN\n",
       "1998     NaN\n",
       "2001     NaN\n",
       "2003     NaN\n",
       "2008     NaN\n",
       "2015     NaN\n",
       "2016     NaN\n",
       "2022     NaN\n",
       "2028     NaN\n",
       "2031     NaN\n",
       "2047     NaN\n",
       "Name: Lot Frontage, Length: 2051, dtype: float64"
      ]
     },
     "execution_count": 3,
     "metadata": {},
     "output_type": "execute_result"
    }
   ],
   "source": [
    "train['Lot Frontage'].sort_values()"
   ]
  },
  {
   "cell_type": "code",
   "execution_count": null,
   "metadata": {},
   "outputs": [],
   "source": []
  }
 ],
 "metadata": {
  "kernelspec": {
   "display_name": "Python 3",
   "language": "python",
   "name": "python3"
  },
  "language_info": {
   "codemirror_mode": {
    "name": "ipython",
    "version": 3
   },
   "file_extension": ".py",
   "mimetype": "text/x-python",
   "name": "python",
   "nbconvert_exporter": "python",
   "pygments_lexer": "ipython3",
   "version": "3.7.3"
  }
 },
 "nbformat": 4,
 "nbformat_minor": 2
}
